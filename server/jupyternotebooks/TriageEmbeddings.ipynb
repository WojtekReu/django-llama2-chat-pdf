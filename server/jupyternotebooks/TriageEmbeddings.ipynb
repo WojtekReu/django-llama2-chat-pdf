{
 "cells": [
  {
   "cell_type": "code",
   "execution_count": 1,
   "id": "a5ae245a",
   "metadata": {},
   "outputs": [],
   "source": [
    "from chat.tests.data.mega_corp_alpha_manifesto import manifesto\n",
    "from chat.services import recursive_splitter, simple_splitter, spacy_splitter"
   ]
  },
  {
   "cell_type": "code",
   "execution_count": 2,
   "id": "fa493a3d",
   "metadata": {},
   "outputs": [
    {
     "data": {
      "text/plain": [
       "\"\\nThese are the 18 principles of the MegaCorpAlpha Way:\\n\\n1.  We expect all our leaders to embody the MegaCorpAlpha Way philosophy and mentor our team members in its tools and methodologies.\\n2.  Our commitments are always backed by realistic and actionable plans.\\n3.  Our choices and actions are directed by our overarching company values.\\n4.  We approach management with foresight and longevity in mind.\\n5.  Every MegaCorpAlpha team member is encouraged to integrate the MegaCorpAlpha Way into their daily activities.\\n6.  Personal growth and internal promotions are pivotal in our growth strategy.\\n7.  All of us play an essential role in bringing outstanding talent into MegaCorpAlpha.\\n8.  We forge productive and future-forward partnerships, aiming for Ten(d) to Zero discrepancies.\\n9.  We prioritize firsthand experiences, ensuring we truly grasp ongoing situations.\\n10. Team members are empowered to address and resolve issues at their respective tiers.\\n11. We emphasize incorporating quality in every step to prevent and eliminate errors.\\n12. Our main operational processes are crafted around the principles of demand-driven operations and even distribution based on customer rhythms.\\n13. We champion continuous and seamless workflows to promptly identify any obstacles [if it's not flowing, we're not growing].\\n14. Standard procedures form the bedrock of our continuous progress and team empowerment strategy.\\n15. Within MegaCorpAlpha, we actively disseminate our most effective strategies and innovations.\\n16. While we value external inspiration, we always reflect and carve our unique path forward.\\n17. Transparent visualization aids are key to highlighting issues, motivating enhancements, and quick situational awareness.\\n18. Our annual Strategy Implementation approach establishes ambitious targets and tracks evolution, ensuring perpetual refinement based on real-world learnings.\""
      ]
     },
     "execution_count": 2,
     "metadata": {},
     "output_type": "execute_result"
    }
   ],
   "source": [
    "manifesto"
   ]
  },
  {
   "cell_type": "code",
   "execution_count": 3,
   "id": "a4560f54",
   "metadata": {},
   "outputs": [
    {
     "data": {
      "text/plain": [
       "['These are the 18 principles of the MegaCorpAlpha Way:\\n1.  We expect all our leaders to embody the MegaCorpAlpha Way philosophy and mentor our team members in its tools and methodologies.\\n2.  Our commitments are always backed by realistic and actionable plans.',\n",
       " '3.  Our choices and actions are directed by our overarching company values.\\n4.  We approach management with foresight and longevity in mind.\\n5.  Every MegaCorpAlpha team member is encouraged to integrate the MegaCorpAlpha Way into their daily activities.',\n",
       " '6.  Personal growth and internal promotions are pivotal in our growth strategy.\\n7.  All of us play an essential role in bringing outstanding talent into MegaCorpAlpha.\\n8.  We forge productive and future-forward partnerships, aiming for Ten(d) to Zero discrepancies.',\n",
       " '9.  We prioritize firsthand experiences, ensuring we truly grasp ongoing situations.\\n10. Team members are empowered to address and resolve issues at their respective tiers.\\n11. We emphasize incorporating quality in every step to prevent and eliminate errors.',\n",
       " \"12. Our main operational processes are crafted around the principles of demand-driven operations and even distribution based on customer rhythms.\\n13. We champion continuous and seamless workflows to promptly identify any obstacles [if it's not flowing, we're not growing].\",\n",
       " '14. Standard procedures form the bedrock of our continuous progress and team empowerment strategy.\\n15. Within MegaCorpAlpha, we actively disseminate our most effective strategies and innovations.\\n16. While we value external inspiration, we always reflect and carve our unique path forward.',\n",
       " '17. Transparent visualization aids are key to highlighting issues, motivating enhancements, and quick situational awareness.\\n18. Our annual Strategy Implementation approach establishes ambitious targets and tracks evolution, ensuring perpetual refinement based on real-world learnings.']"
      ]
     },
     "execution_count": 3,
     "metadata": {},
     "output_type": "execute_result"
    }
   ],
   "source": [
    "simple_splitter(manifesto)"
   ]
  },
  {
   "cell_type": "code",
   "execution_count": 4,
   "id": "0e1bac72",
   "metadata": {},
   "outputs": [
    {
     "data": {
      "text/plain": [
       "7"
      ]
     },
     "execution_count": 4,
     "metadata": {},
     "output_type": "execute_result"
    }
   ],
   "source": [
    "len(simple_splitter(manifesto))"
   ]
  },
  {
   "cell_type": "code",
   "execution_count": 5,
   "id": "6cd833f6",
   "metadata": {},
   "outputs": [
    {
     "data": {
      "text/plain": [
       "['These are the 18 principles of the MegaCorpAlpha Way:',\n",
       " '1.  We expect all our leaders to embody the MegaCorpAlpha Way philosophy and mentor our team members in its tools and methodologies.\\n2.  Our commitments are always backed by realistic and actionable plans.\\n3.  Our choices and actions are directed by our overarching company values.',\n",
       " '4.  We approach management with foresight and longevity in mind.\\n5.  Every MegaCorpAlpha team member is encouraged to integrate the MegaCorpAlpha Way into their daily activities.\\n6.  Personal growth and internal promotions are pivotal in our growth strategy.',\n",
       " '7.  All of us play an essential role in bringing outstanding talent into MegaCorpAlpha.\\n8.  We forge productive and future-forward partnerships, aiming for Ten(d) to Zero discrepancies.\\n9.  We prioritize firsthand experiences, ensuring we truly grasp ongoing situations.',\n",
       " '10. Team members are empowered to address and resolve issues at their respective tiers.\\n11. We emphasize incorporating quality in every step to prevent and eliminate errors.',\n",
       " \"12. Our main operational processes are crafted around the principles of demand-driven operations and even distribution based on customer rhythms.\\n13. We champion continuous and seamless workflows to promptly identify any obstacles [if it's not flowing, we're not growing].\",\n",
       " '14. Standard procedures form the bedrock of our continuous progress and team empowerment strategy.\\n15. Within MegaCorpAlpha, we actively disseminate our most effective strategies and innovations.\\n16. While we value external inspiration, we always reflect and carve our unique path forward.',\n",
       " '17. Transparent visualization aids are key to highlighting issues, motivating enhancements, and quick situational awareness.\\n18. Our annual Strategy Implementation approach establishes ambitious targets and tracks evolution, ensuring perpetual refinement based on real-world learnings.']"
      ]
     },
     "execution_count": 5,
     "metadata": {},
     "output_type": "execute_result"
    }
   ],
   "source": [
    "recursive_splitter(manifesto)"
   ]
  },
  {
   "cell_type": "code",
   "execution_count": 6,
   "id": "07b27820",
   "metadata": {},
   "outputs": [
    {
     "data": {
      "text/plain": [
       "8"
      ]
     },
     "execution_count": 6,
     "metadata": {},
     "output_type": "execute_result"
    }
   ],
   "source": [
    "len(recursive_splitter(manifesto))"
   ]
  },
  {
   "cell_type": "code",
   "execution_count": 7,
   "id": "d5745a09",
   "metadata": {},
   "outputs": [
    {
     "name": "stderr",
     "output_type": "stream",
     "text": [
      "/Users/piotrgryko/code/richard/django-llama2-reactjs-chat-pdf/server/.venv/lib/python3.10/site-packages/spacy/pipeline/lemmatizer.py:211: UserWarning: [W108] The rule-based lemmatizer did not find POS annotation for one or more tokens. Check that your pipeline includes components that assign token.pos, typically 'tagger'+'attribute_ruler' or 'morphologizer'.\n",
      "  warnings.warn(Warnings.W108)\n"
     ]
    },
    {
     "data": {
      "text/plain": [
       "[\"These are the 18 principles of the MegaCorpAlpha Way:\\n\\n1.  \\n\\nWe expect all our leaders to embody the MegaCorpAlpha Way philosophy and mentor our team members in its tools and methodologies.\\n\\n\\n2.  \\n\\nOur commitments are always backed by realistic and actionable plans.\\n\\n\\n3.  \\n\\nOur choices and actions are directed by our overarching company values.\\n\\n\\n4.  \\n\\nWe approach management with foresight and longevity in mind.\\n\\n\\n5.  \\n\\nEvery MegaCorpAlpha team member is encouraged to integrate the MegaCorpAlpha Way into their daily activities.\\n\\n\\n6.  \\n\\nPersonal growth and internal promotions are pivotal in our growth strategy.\\n\\n\\n7.  All of us play an essential role in bringing outstanding talent into MegaCorpAlpha.\\n8.  \\n\\nWe forge productive and future-forward partnerships, aiming for Ten(d) to Zero discrepancies.\\n\\n\\n9.  \\n\\nWe prioritize firsthand experiences, ensuring we truly grasp ongoing situations.\\n\\n\\n10.\\n\\nTeam members are empowered to address and resolve issues at their respective tiers.\\n\\n\\n11.\\n\\nWe emphasize incorporating quality in every step to prevent and eliminate errors.\\n\\n\\n12.\\n\\nOur main operational processes are crafted around the principles of demand-driven operations and even distribution based on customer rhythms.\\n\\n\\n13.\\n\\nWe champion continuous and seamless workflows to promptly identify any obstacles\\n\\n[if it's not flowing, we're not growing].\\n\\n\\n14.\\n\\nStandard procedures form the bedrock of our continuous progress and team empowerment strategy.\\n15.\\n\\nWithin MegaCorpAlpha, we actively disseminate our most effective strategies and innovations.\\n\\n\\n16.\\n\\nWhile we value external inspiration, we always reflect and carve our unique path forward.\\n\\n\\n17.\\n\\nTransparent visualization aids are key to highlighting issues, motivating enhancements, and quick situational awareness.\\n\\n\\n18.\\n\\nOur annual Strategy Implementation approach establishes ambitious targets and tracks evolution, ensuring perpetual refinement based on real-world learnings.\"]"
      ]
     },
     "execution_count": 7,
     "metadata": {},
     "output_type": "execute_result"
    }
   ],
   "source": [
    "spacy_splitter(manifesto)"
   ]
  },
  {
   "cell_type": "code",
   "execution_count": 8,
   "id": "b87d1dea",
   "metadata": {},
   "outputs": [
    {
     "data": {
      "text/plain": [
       "1"
      ]
     },
     "execution_count": 8,
     "metadata": {},
     "output_type": "execute_result"
    }
   ],
   "source": [
    "len(spacy_splitter(manifesto))"
   ]
  },
  {
   "cell_type": "code",
   "execution_count": null,
   "id": "77c440ca",
   "metadata": {},
   "outputs": [],
   "source": []
  }
 ],
 "metadata": {
  "kernelspec": {
   "display_name": "Django Shell-Plus",
   "language": "python",
   "name": "django_extensions"
  },
  "language_info": {
   "codemirror_mode": {
    "name": "ipython",
    "version": 3
   },
   "file_extension": ".py",
   "mimetype": "text/x-python",
   "name": "python",
   "nbconvert_exporter": "python",
   "pygments_lexer": "ipython3",
   "version": "3.10.8"
  }
 },
 "nbformat": 4,
 "nbformat_minor": 5
}
