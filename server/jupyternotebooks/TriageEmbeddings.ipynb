{
 "cells": [
  {
   "cell_type": "code",
   "execution_count": 1,
   "id": "5a0214b0-b629-4139-bb1b-13f260535967",
   "metadata": {
    "tags": []
   },
   "outputs": [
    {
     "name": "stdout",
     "output_type": "stream",
     "text": [
      "\n",
      "\u001b[1m[\u001b[0m\u001b[34;49mnotice\u001b[0m\u001b[1;39;49m]\u001b[0m\u001b[39;49m A new release of pip available: \u001b[0m\u001b[31;49m22.3.1\u001b[0m\u001b[39;49m -> \u001b[0m\u001b[32;49m23.2.1\u001b[0m\n",
      "\u001b[1m[\u001b[0m\u001b[34;49mnotice\u001b[0m\u001b[1;39;49m]\u001b[0m\u001b[39;49m To update, run: \u001b[0m\u001b[32;49mpip install --upgrade pip\u001b[0m\n",
      "\n",
      "\u001b[1m[\u001b[0m\u001b[34;49mnotice\u001b[0m\u001b[1;39;49m]\u001b[0m\u001b[39;49m A new release of pip available: \u001b[0m\u001b[31;49m22.3.1\u001b[0m\u001b[39;49m -> \u001b[0m\u001b[32;49m23.2.1\u001b[0m\n",
      "\u001b[1m[\u001b[0m\u001b[34;49mnotice\u001b[0m\u001b[1;39;49m]\u001b[0m\u001b[39;49m To update, run: \u001b[0m\u001b[32;49mpip install --upgrade pip\u001b[0m\n"
     ]
    }
   ],
   "source": [
    "!pip install -q -r requirements.txt\n",
    "!pip install -q ipywidgets\n",
    "# GUI tools\n",
    "%gui asyncio\n",
    "\n",
    "# jupyter labextension install @jupyter-widgets/jupyterlab-manager\n",
    "\n",
    "\n",
    "import asyncio\n",
    "import ipywidgets as widgets\n",
    "from IPython.display import display\n",
    "from typing import AsyncIterable\n",
    "\n",
    "# def wait_for_change(widget, value):\n",
    "#     future = asyncio.Future()\n",
    "#     def getvalue(change):\n",
    "#         # make the new value available\n",
    "#         future.set_result(change.new)\n",
    "#         widget.unobserve(getvalue, value)\n",
    "#     widget.observe(getvalue, value)\n",
    "#     return future"
   ]
  },
  {
   "cell_type": "code",
   "execution_count": 2,
   "id": "d42b2c83-5854-49f5-8a26-47773398f296",
   "metadata": {
    "tags": []
   },
   "outputs": [],
   "source": [
    "import chromadb\n",
    "from chromadb.utils import embedding_functions\n",
    "\n",
    "# You'll need to set replicate key as an environment env i.e. export REPLICATE_API_TOKEN=your_token\n",
    "import replicate\n",
    "# Tool for displaying steamed text output"
   ]
  },
  {
   "cell_type": "code",
   "execution_count": 6,
   "id": "5e50f9f7-4c64-4cee-ad96-a1f601942db5",
   "metadata": {
    "tags": []
   },
   "outputs": [],
   "source": [
    "async def get_replicate_stream(user_input: str) -> AsyncIterable[str | bytes]:\n",
    "    try:\n",
    "        # The replicate/llama-2-70b-chat model can stream output as it's running.\n",
    "        # The predict method returns an iterator, and you can iterate over that output.\n",
    "        # Prompting guide https://replicate.com/blog/how-to-prompt-llama\n",
    "        output: Iterator = replicate.run(\n",
    "            \"replicate/llama-2-70b-chat:2c1608e18606fad2812020dc541930f2d0495ce32eee50074220b87300bc16e1\",\n",
    "            input={\n",
    "                \"prompt\": f\"[INST] {user_input} [/INST]\",\n",
    "                \"system_prompt\": \"\",\n",
    "            },\n",
    "        )\n",
    "        for item in output:\n",
    "            # Dumb as hell - streaming only works if you introduce a tiny delay\n",
    "            # Hypothesis\n",
    "            # The delay essentially serves as a workaround by allowing the client to catch up and request the\n",
    "            # next chunk of data. It's worth investigating further if there are other underlying issues,\n",
    "            # such as buffering in your server or any intermediaries, that might affect real-time streaming.\n",
    "            await asyncio.sleep(0.000001)  # Introducing a delay\n",
    "            yield item\n",
    "    except Exception as e:\n",
    "        raise HTTPException(status_code=500, detail=str(e))"
   ]
  },
  {
   "cell_type": "code",
   "execution_count": 11,
   "id": "1fdeb1c7-5817-43cc-8fa9-d0ab2fd8071d",
   "metadata": {},
   "outputs": [
    {
     "data": {
      "application/vnd.jupyter.widget-view+json": {
       "model_id": "77377f94bf494826bdb165b170a4bf81",
       "version_major": 2,
       "version_minor": 0
      },
      "text/plain": [
       "Text(value='', description='Input:', placeholder='Type your input')"
      ]
     },
     "metadata": {},
     "output_type": "display_data"
    },
    {
     "data": {
      "application/vnd.jupyter.widget-view+json": {
       "model_id": "6c1a2d9fef3d4daebfcae935262aa334",
       "version_major": 2,
       "version_minor": 0
      },
      "text/plain": [
       "Button(description='Run', icon='play', style=ButtonStyle(), tooltip='Run')"
      ]
     },
     "metadata": {},
     "output_type": "display_data"
    },
    {
     "data": {
      "application/vnd.jupyter.widget-view+json": {
       "model_id": "a21bd1673e924cec9cd279ca009c3786",
       "version_major": 2,
       "version_minor": 0
      },
      "text/plain": [
       "Textarea(value='', description='Output:', layout=Layout(height='200px', width='90%'), placeholder='Output will…"
      ]
     },
     "metadata": {},
     "output_type": "display_data"
    }
   ],
   "source": [
    "from functools import wraps\n",
    "from ipywidgets import IntSlider, VBox, HTML, Layout\n",
    "\n",
    "def yield_for_change(widget, attribute):\n",
    "    \"\"\"Pause a generator to wait for a widget change event.\n",
    "        \n",
    "    This is a decorator for a generator function which pauses the generator on yield\n",
    "    until the given widget attribute changes. The new value of the attribute is\n",
    "    sent to the generator and is the value of the yield.\n",
    "    \"\"\"\n",
    "    def f(iterator):\n",
    "        @wraps(iterator)\n",
    "        def inner():\n",
    "            i = iterator()\n",
    "            def next_i(change):\n",
    "                try:\n",
    "                    i.send(change.new)\n",
    "                except StopIteration as e:\n",
    "                    widget.unobserve(next_i, attribute)\n",
    "            widget.observe(next_i, attribute)\n",
    "            # start the generator\n",
    "            next(i)\n",
    "        return inner\n",
    "    return f\n",
    "\n",
    "# Button click event handler\n",
    "async def on_button_click(b):\n",
    "    output_area.value = \"\"  # Clear the existing output\n",
    "    async for item in get_replicate_stream(input_text.value):\n",
    "        output_area.value += item  # Add new output lines to the Textarea\n",
    "\n",
    "# Create ipywidgets\n",
    "input_text = widgets.Text(\n",
    "    value='',\n",
    "    placeholder='Type your input',\n",
    "    description='Input:',\n",
    "    disabled=False\n",
    ")\n",
    "\n",
    "output_area = widgets.Textarea(\n",
    "    value='',\n",
    "    placeholder='Output will be displayed here',\n",
    "    description='Output:',\n",
    "    disabled=False,\n",
    "    layout=Layout(width='90%', height='200px')\n",
    ")\n",
    "\n",
    "run_button = widgets.Button(\n",
    "    description='Run',\n",
    "    disabled=False,\n",
    "    button_style='',  # 'success', 'info', 'warning', 'danger' or ''\n",
    "    tooltip='Run',\n",
    "    icon='play'  # (FontAwesome names without the `fa-` prefix)\n",
    ")\n",
    "\n",
    "# Attach event handler\n",
    "run_button.on_click(lambda b: asyncio.create_task(on_button_click(b)))\n",
    "\n",
    "# Display widgets\n",
    "display(input_text, run_button, output_area)"
   ]
  },
  {
   "cell_type": "code",
   "execution_count": null,
   "id": "e1ff73fb-d585-47a4-bb4c-847e4e7d4b84",
   "metadata": {},
   "outputs": [],
   "source": []
  }
 ],
 "metadata": {
  "kernelspec": {
   "display_name": "Python 3 (ipykernel)",
   "language": "python",
   "name": "python3"
  },
  "language_info": {
   "codemirror_mode": {
    "name": "ipython",
    "version": 3
   },
   "file_extension": ".py",
   "mimetype": "text/x-python",
   "name": "python",
   "nbconvert_exporter": "python",
   "pygments_lexer": "ipython3",
   "version": "3.10.8"
  }
 },
 "nbformat": 4,
 "nbformat_minor": 5
}
